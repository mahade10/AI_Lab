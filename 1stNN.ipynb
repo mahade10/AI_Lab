{
  "nbformat": 4,
  "nbformat_minor": 0,
  "metadata": {
    "colab": {
      "name": "1stNN.ipynb",
      "provenance": [],
      "collapsed_sections": []
    },
    "kernelspec": {
      "name": "python3",
      "display_name": "Python 3"
    },
    "language_info": {
      "name": "python"
    }
  },
  "cells": [
    {
      "cell_type": "code",
      "execution_count": 3,
      "metadata": {
        "id": "RCOfqg8S4AYQ",
        "outputId": "2b7dcec6-8bc0-45e5-8aac-1d3fa0dc8bb9",
        "colab": {
          "base_uri": "https://localhost:8080/"
        }
      },
      "outputs": [
        {
          "output_type": "stream",
          "name": "stdout",
          "text": [
            "Model: \"model_1\"\n",
            "_________________________________________________________________\n",
            " Layer (type)                Output Shape              Param #   \n",
            "=================================================================\n",
            " input_2 (InputLayer)        [(None, 2)]               0         \n",
            "                                                                 \n",
            " dense_4 (Dense)             (None, 2)                 6         \n",
            "                                                                 \n",
            " dense_5 (Dense)             (None, 2)                 6         \n",
            "                                                                 \n",
            " dense_6 (Dense)             (None, 2)                 6         \n",
            "                                                                 \n",
            " dense_7 (Dense)             (None, 1)                 3         \n",
            "                                                                 \n",
            "=================================================================\n",
            "Total params: 21\n",
            "Trainable params: 21\n",
            "Non-trainable params: 0\n",
            "_________________________________________________________________\n"
          ]
        }
      ],
      "source": [
        "from tensorflow.keras.layers import Input, Dense\n",
        "from tensorflow.keras.models import Model\n",
        "\n",
        "def main():\n",
        "\n",
        "  model = build_model()\n",
        "\n",
        "def build_model():\n",
        "  # Create layers\n",
        "\tinputs = Input(2,)\n",
        "\th1 = Dense(2, activation = 'elu')(inputs)\n",
        "\th2 = Dense(2, activation = 'relu')(h1)\n",
        "\th3 = Dense(2, activation = 'sigmoid')(h2)\n",
        "\toutputs = Dense(1)(h3)\n",
        " \n",
        " \t# Create model\n",
        "\tmodel = Model(inputs, outputs)\n",
        "\tmodel.summary()\n",
        "\n",
        "\treturn model\n",
        "\n",
        "if __name__ == '__main__':\n",
        "  \tmain()"
      ]
    }
  ]
}